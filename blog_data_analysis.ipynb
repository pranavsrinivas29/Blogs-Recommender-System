{
 "cells": [
  {
   "cell_type": "markdown",
   "metadata": {},
   "source": [
    "### Blogs Data Analysis\n"
   ]
  },
  {
   "cell_type": "code",
   "execution_count": 1,
   "metadata": {},
   "outputs": [],
   "source": [
    "import pandas as pd\n",
    "import numpy as np"
   ]
  },
  {
   "cell_type": "code",
   "execution_count": 6,
   "metadata": {},
   "outputs": [],
   "source": [
    "blogs_df = pd.read_csv('data/Medium Blog Data.csv')"
   ]
  },
  {
   "cell_type": "code",
   "execution_count": 7,
   "metadata": {},
   "outputs": [
    {
     "data": {
      "text/html": [
       "<div>\n",
       "<style scoped>\n",
       "    .dataframe tbody tr th:only-of-type {\n",
       "        vertical-align: middle;\n",
       "    }\n",
       "\n",
       "    .dataframe tbody tr th {\n",
       "        vertical-align: top;\n",
       "    }\n",
       "\n",
       "    .dataframe thead th {\n",
       "        text-align: right;\n",
       "    }\n",
       "</style>\n",
       "<table border=\"1\" class=\"dataframe\">\n",
       "  <thead>\n",
       "    <tr style=\"text-align: right;\">\n",
       "      <th></th>\n",
       "      <th>blog_id</th>\n",
       "      <th>author_id</th>\n",
       "      <th>blog_title</th>\n",
       "      <th>blog_content</th>\n",
       "      <th>blog_link</th>\n",
       "      <th>blog_img</th>\n",
       "      <th>topic</th>\n",
       "      <th>scrape_time</th>\n",
       "    </tr>\n",
       "  </thead>\n",
       "  <tbody>\n",
       "    <tr>\n",
       "      <th>0</th>\n",
       "      <td>1</td>\n",
       "      <td>4</td>\n",
       "      <td>Let’s Dominate The Launchpad Space Again</td>\n",
       "      <td>Hello, fam! If you’ve been with us since 2021,...</td>\n",
       "      <td>https://medium.com/@seedifyfund/lets-dominate-...</td>\n",
       "      <td>https://miro.medium.com/fit/c/140/140/1*nByLJr...</td>\n",
       "      <td>ai</td>\n",
       "      <td>2023-02-27 07:37:48</td>\n",
       "    </tr>\n",
       "    <tr>\n",
       "      <th>1</th>\n",
       "      <td>3</td>\n",
       "      <td>4</td>\n",
       "      <td>Let’s Dominate The Launchpad Space Again</td>\n",
       "      <td>Hello, fam! If you’ve been with us since 2021,...</td>\n",
       "      <td>https://medium.com/@seedifyfund/lets-dominate-...</td>\n",
       "      <td>https://miro.medium.com/fit/c/140/140/1*nByLJr...</td>\n",
       "      <td>ai</td>\n",
       "      <td>2023-02-27 07:41:47</td>\n",
       "    </tr>\n",
       "    <tr>\n",
       "      <th>2</th>\n",
       "      <td>4</td>\n",
       "      <td>7</td>\n",
       "      <td>Using ChatGPT for User Research</td>\n",
       "      <td>Applying AI to 4 common user research activiti...</td>\n",
       "      <td>https://medium.com/ux-planet/using-chatgpt-for...</td>\n",
       "      <td>https://miro.medium.com/fit/c/140/140/1*TZSGnN...</td>\n",
       "      <td>ai</td>\n",
       "      <td>2023-02-27 07:41:47</td>\n",
       "    </tr>\n",
       "    <tr>\n",
       "      <th>3</th>\n",
       "      <td>5</td>\n",
       "      <td>8</td>\n",
       "      <td>The Automated Stable-Diffusion Checkpoint Merg...</td>\n",
       "      <td>Checkpoint merging is powerful. The power of c...</td>\n",
       "      <td>https://medium.com/@media_97267/the-automated-...</td>\n",
       "      <td>https://miro.medium.com/fit/c/140/140/1*x3N_Hj...</td>\n",
       "      <td>ai</td>\n",
       "      <td>2023-02-27 07:41:47</td>\n",
       "    </tr>\n",
       "  </tbody>\n",
       "</table>\n",
       "</div>"
      ],
      "text/plain": [
       "   blog_id  author_id                                         blog_title  \\\n",
       "0        1          4           Let’s Dominate The Launchpad Space Again   \n",
       "1        3          4           Let’s Dominate The Launchpad Space Again   \n",
       "2        4          7                    Using ChatGPT for User Research   \n",
       "3        5          8  The Automated Stable-Diffusion Checkpoint Merg...   \n",
       "\n",
       "                                        blog_content  \\\n",
       "0  Hello, fam! If you’ve been with us since 2021,...   \n",
       "1  Hello, fam! If you’ve been with us since 2021,...   \n",
       "2  Applying AI to 4 common user research activiti...   \n",
       "3  Checkpoint merging is powerful. The power of c...   \n",
       "\n",
       "                                           blog_link  \\\n",
       "0  https://medium.com/@seedifyfund/lets-dominate-...   \n",
       "1  https://medium.com/@seedifyfund/lets-dominate-...   \n",
       "2  https://medium.com/ux-planet/using-chatgpt-for...   \n",
       "3  https://medium.com/@media_97267/the-automated-...   \n",
       "\n",
       "                                            blog_img topic  \\\n",
       "0  https://miro.medium.com/fit/c/140/140/1*nByLJr...    ai   \n",
       "1  https://miro.medium.com/fit/c/140/140/1*nByLJr...    ai   \n",
       "2  https://miro.medium.com/fit/c/140/140/1*TZSGnN...    ai   \n",
       "3  https://miro.medium.com/fit/c/140/140/1*x3N_Hj...    ai   \n",
       "\n",
       "           scrape_time  \n",
       "0  2023-02-27 07:37:48  \n",
       "1  2023-02-27 07:41:47  \n",
       "2  2023-02-27 07:41:47  \n",
       "3  2023-02-27 07:41:47  "
      ]
     },
     "execution_count": 7,
     "metadata": {},
     "output_type": "execute_result"
    }
   ],
   "source": [
    "blogs_df.head(4)"
   ]
  },
  {
   "cell_type": "code",
   "execution_count": 8,
   "metadata": {},
   "outputs": [
    {
     "data": {
      "text/plain": [
       "(10467, 8)"
      ]
     },
     "execution_count": 8,
     "metadata": {},
     "output_type": "execute_result"
    }
   ],
   "source": [
    "blogs_df.shape"
   ]
  },
  {
   "cell_type": "code",
   "execution_count": 9,
   "metadata": {},
   "outputs": [
    {
     "data": {
      "text/plain": [
       "topic\n",
       "ai                      736\n",
       "blockchain              644\n",
       "cybersecurity           642\n",
       "web-development         635\n",
       "data-analysis           594\n",
       "cloud-computing         589\n",
       "security                527\n",
       "web3                    471\n",
       "machine-learning        467\n",
       "nlp                     453\n",
       "data-science            444\n",
       "deep-learning           430\n",
       "android                 426\n",
       "dev-ops                 384\n",
       "information-security    374\n",
       "image-processing        354\n",
       "flutter                 343\n",
       "backend                 341\n",
       "cloud-services          339\n",
       "Cryptocurrency          331\n",
       "app-development         322\n",
       "backend-development     312\n",
       "Software-Development    309\n",
       "Name: count, dtype: int64"
      ]
     },
     "execution_count": 9,
     "metadata": {},
     "output_type": "execute_result"
    }
   ],
   "source": [
    "blogs_df['topic'].value_counts()"
   ]
  },
  {
   "cell_type": "code",
   "execution_count": 10,
   "metadata": {},
   "outputs": [
    {
     "data": {
      "text/plain": [
       "Index(['blog_id', 'author_id', 'blog_title', 'blog_content', 'blog_link',\n",
       "       'blog_img', 'topic', 'scrape_time'],\n",
       "      dtype='object')"
      ]
     },
     "execution_count": 10,
     "metadata": {},
     "output_type": "execute_result"
    }
   ],
   "source": [
    "blogs_df.columns"
   ]
  },
  {
   "cell_type": "code",
   "execution_count": 11,
   "metadata": {},
   "outputs": [
    {
     "data": {
      "application/vnd.plotly.v1+json": {
       "config": {
        "plotlyServerURL": "https://plot.ly"
       },
       "data": [
        {
         "hovertemplate": "Blog Topic=%{x}<br>Number of Blogs=%{text}<extra></extra>",
         "legendgroup": "ai",
         "marker": {
          "color": "#636efa",
          "pattern": {
           "shape": ""
          }
         },
         "name": "ai",
         "orientation": "v",
         "showlegend": true,
         "text": {
          "bdata": "AAAAAAAAh0A=",
          "dtype": "f8"
         },
         "textposition": "outside",
         "type": "bar",
         "x": [
          "ai"
         ],
         "xaxis": "x",
         "y": {
          "bdata": "4AI=",
          "dtype": "i2"
         },
         "yaxis": "y"
        },
        {
         "hovertemplate": "Blog Topic=%{x}<br>Number of Blogs=%{text}<extra></extra>",
         "legendgroup": "blockchain",
         "marker": {
          "color": "#EF553B",
          "pattern": {
           "shape": ""
          }
         },
         "name": "blockchain",
         "orientation": "v",
         "showlegend": true,
         "text": {
          "bdata": "AAAAAAAghEA=",
          "dtype": "f8"
         },
         "textposition": "outside",
         "type": "bar",
         "x": [
          "blockchain"
         ],
         "xaxis": "x",
         "y": {
          "bdata": "hAI=",
          "dtype": "i2"
         },
         "yaxis": "y"
        },
        {
         "hovertemplate": "Blog Topic=%{x}<br>Number of Blogs=%{text}<extra></extra>",
         "legendgroup": "cybersecurity",
         "marker": {
          "color": "#00cc96",
          "pattern": {
           "shape": ""
          }
         },
         "name": "cybersecurity",
         "orientation": "v",
         "showlegend": true,
         "text": {
          "bdata": "AAAAAAAQhEA=",
          "dtype": "f8"
         },
         "textposition": "outside",
         "type": "bar",
         "x": [
          "cybersecurity"
         ],
         "xaxis": "x",
         "y": {
          "bdata": "ggI=",
          "dtype": "i2"
         },
         "yaxis": "y"
        },
        {
         "hovertemplate": "Blog Topic=%{x}<br>Number of Blogs=%{text}<extra></extra>",
         "legendgroup": "web-development",
         "marker": {
          "color": "#ab63fa",
          "pattern": {
           "shape": ""
          }
         },
         "name": "web-development",
         "orientation": "v",
         "showlegend": true,
         "text": {
          "bdata": "AAAAAADYg0A=",
          "dtype": "f8"
         },
         "textposition": "outside",
         "type": "bar",
         "x": [
          "web-development"
         ],
         "xaxis": "x",
         "y": {
          "bdata": "ewI=",
          "dtype": "i2"
         },
         "yaxis": "y"
        },
        {
         "hovertemplate": "Blog Topic=%{x}<br>Number of Blogs=%{text}<extra></extra>",
         "legendgroup": "data-analysis",
         "marker": {
          "color": "#FFA15A",
          "pattern": {
           "shape": ""
          }
         },
         "name": "data-analysis",
         "orientation": "v",
         "showlegend": true,
         "text": {
          "bdata": "AAAAAACQgkA=",
          "dtype": "f8"
         },
         "textposition": "outside",
         "type": "bar",
         "x": [
          "data-analysis"
         ],
         "xaxis": "x",
         "y": {
          "bdata": "UgI=",
          "dtype": "i2"
         },
         "yaxis": "y"
        },
        {
         "hovertemplate": "Blog Topic=%{x}<br>Number of Blogs=%{text}<extra></extra>",
         "legendgroup": "cloud-computing",
         "marker": {
          "color": "#19d3f3",
          "pattern": {
           "shape": ""
          }
         },
         "name": "cloud-computing",
         "orientation": "v",
         "showlegend": true,
         "text": {
          "bdata": "AAAAAABogkA=",
          "dtype": "f8"
         },
         "textposition": "outside",
         "type": "bar",
         "x": [
          "cloud-computing"
         ],
         "xaxis": "x",
         "y": {
          "bdata": "TQI=",
          "dtype": "i2"
         },
         "yaxis": "y"
        },
        {
         "hovertemplate": "Blog Topic=%{x}<br>Number of Blogs=%{text}<extra></extra>",
         "legendgroup": "security",
         "marker": {
          "color": "#FF6692",
          "pattern": {
           "shape": ""
          }
         },
         "name": "security",
         "orientation": "v",
         "showlegend": true,
         "text": {
          "bdata": "AAAAAAB4gEA=",
          "dtype": "f8"
         },
         "textposition": "outside",
         "type": "bar",
         "x": [
          "security"
         ],
         "xaxis": "x",
         "y": {
          "bdata": "DwI=",
          "dtype": "i2"
         },
         "yaxis": "y"
        },
        {
         "hovertemplate": "Blog Topic=%{x}<br>Number of Blogs=%{text}<extra></extra>",
         "legendgroup": "web3",
         "marker": {
          "color": "#B6E880",
          "pattern": {
           "shape": ""
          }
         },
         "name": "web3",
         "orientation": "v",
         "showlegend": true,
         "text": {
          "bdata": "AAAAAABwfUA=",
          "dtype": "f8"
         },
         "textposition": "outside",
         "type": "bar",
         "x": [
          "web3"
         ],
         "xaxis": "x",
         "y": {
          "bdata": "1wE=",
          "dtype": "i2"
         },
         "yaxis": "y"
        },
        {
         "hovertemplate": "Blog Topic=%{x}<br>Number of Blogs=%{text}<extra></extra>",
         "legendgroup": "machine-learning",
         "marker": {
          "color": "#FF97FF",
          "pattern": {
           "shape": ""
          }
         },
         "name": "machine-learning",
         "orientation": "v",
         "showlegend": true,
         "text": {
          "bdata": "AAAAAAAwfUA=",
          "dtype": "f8"
         },
         "textposition": "outside",
         "type": "bar",
         "x": [
          "machine-learning"
         ],
         "xaxis": "x",
         "y": {
          "bdata": "0wE=",
          "dtype": "i2"
         },
         "yaxis": "y"
        },
        {
         "hovertemplate": "Blog Topic=%{x}<br>Number of Blogs=%{text}<extra></extra>",
         "legendgroup": "nlp",
         "marker": {
          "color": "#FECB52",
          "pattern": {
           "shape": ""
          }
         },
         "name": "nlp",
         "orientation": "v",
         "showlegend": true,
         "text": {
          "bdata": "AAAAAABQfEA=",
          "dtype": "f8"
         },
         "textposition": "outside",
         "type": "bar",
         "x": [
          "nlp"
         ],
         "xaxis": "x",
         "y": {
          "bdata": "xQE=",
          "dtype": "i2"
         },
         "yaxis": "y"
        },
        {
         "hovertemplate": "Blog Topic=%{x}<br>Number of Blogs=%{text}<extra></extra>",
         "legendgroup": "data-science",
         "marker": {
          "color": "#636efa",
          "pattern": {
           "shape": ""
          }
         },
         "name": "data-science",
         "orientation": "v",
         "showlegend": true,
         "text": {
          "bdata": "AAAAAADAe0A=",
          "dtype": "f8"
         },
         "textposition": "outside",
         "type": "bar",
         "x": [
          "data-science"
         ],
         "xaxis": "x",
         "y": {
          "bdata": "vAE=",
          "dtype": "i2"
         },
         "yaxis": "y"
        },
        {
         "hovertemplate": "Blog Topic=%{x}<br>Number of Blogs=%{text}<extra></extra>",
         "legendgroup": "deep-learning",
         "marker": {
          "color": "#EF553B",
          "pattern": {
           "shape": ""
          }
         },
         "name": "deep-learning",
         "orientation": "v",
         "showlegend": true,
         "text": {
          "bdata": "AAAAAADgekA=",
          "dtype": "f8"
         },
         "textposition": "outside",
         "type": "bar",
         "x": [
          "deep-learning"
         ],
         "xaxis": "x",
         "y": {
          "bdata": "rgE=",
          "dtype": "i2"
         },
         "yaxis": "y"
        },
        {
         "hovertemplate": "Blog Topic=%{x}<br>Number of Blogs=%{text}<extra></extra>",
         "legendgroup": "android",
         "marker": {
          "color": "#00cc96",
          "pattern": {
           "shape": ""
          }
         },
         "name": "android",
         "orientation": "v",
         "showlegend": true,
         "text": {
          "bdata": "AAAAAACgekA=",
          "dtype": "f8"
         },
         "textposition": "outside",
         "type": "bar",
         "x": [
          "android"
         ],
         "xaxis": "x",
         "y": {
          "bdata": "qgE=",
          "dtype": "i2"
         },
         "yaxis": "y"
        },
        {
         "hovertemplate": "Blog Topic=%{x}<br>Number of Blogs=%{text}<extra></extra>",
         "legendgroup": "dev-ops",
         "marker": {
          "color": "#ab63fa",
          "pattern": {
           "shape": ""
          }
         },
         "name": "dev-ops",
         "orientation": "v",
         "showlegend": true,
         "text": {
          "bdata": "AAAAAAAAeEA=",
          "dtype": "f8"
         },
         "textposition": "outside",
         "type": "bar",
         "x": [
          "dev-ops"
         ],
         "xaxis": "x",
         "y": {
          "bdata": "gAE=",
          "dtype": "i2"
         },
         "yaxis": "y"
        },
        {
         "hovertemplate": "Blog Topic=%{x}<br>Number of Blogs=%{text}<extra></extra>",
         "legendgroup": "information-security",
         "marker": {
          "color": "#FFA15A",
          "pattern": {
           "shape": ""
          }
         },
         "name": "information-security",
         "orientation": "v",
         "showlegend": true,
         "text": {
          "bdata": "AAAAAABgd0A=",
          "dtype": "f8"
         },
         "textposition": "outside",
         "type": "bar",
         "x": [
          "information-security"
         ],
         "xaxis": "x",
         "y": {
          "bdata": "dgE=",
          "dtype": "i2"
         },
         "yaxis": "y"
        },
        {
         "hovertemplate": "Blog Topic=%{x}<br>Number of Blogs=%{text}<extra></extra>",
         "legendgroup": "image-processing",
         "marker": {
          "color": "#19d3f3",
          "pattern": {
           "shape": ""
          }
         },
         "name": "image-processing",
         "orientation": "v",
         "showlegend": true,
         "text": {
          "bdata": "AAAAAAAgdkA=",
          "dtype": "f8"
         },
         "textposition": "outside",
         "type": "bar",
         "x": [
          "image-processing"
         ],
         "xaxis": "x",
         "y": {
          "bdata": "YgE=",
          "dtype": "i2"
         },
         "yaxis": "y"
        },
        {
         "hovertemplate": "Blog Topic=%{x}<br>Number of Blogs=%{text}<extra></extra>",
         "legendgroup": "flutter",
         "marker": {
          "color": "#FF6692",
          "pattern": {
           "shape": ""
          }
         },
         "name": "flutter",
         "orientation": "v",
         "showlegend": true,
         "text": {
          "bdata": "AAAAAABwdUA=",
          "dtype": "f8"
         },
         "textposition": "outside",
         "type": "bar",
         "x": [
          "flutter"
         ],
         "xaxis": "x",
         "y": {
          "bdata": "VwE=",
          "dtype": "i2"
         },
         "yaxis": "y"
        },
        {
         "hovertemplate": "Blog Topic=%{x}<br>Number of Blogs=%{text}<extra></extra>",
         "legendgroup": "backend",
         "marker": {
          "color": "#B6E880",
          "pattern": {
           "shape": ""
          }
         },
         "name": "backend",
         "orientation": "v",
         "showlegend": true,
         "text": {
          "bdata": "AAAAAABQdUA=",
          "dtype": "f8"
         },
         "textposition": "outside",
         "type": "bar",
         "x": [
          "backend"
         ],
         "xaxis": "x",
         "y": {
          "bdata": "VQE=",
          "dtype": "i2"
         },
         "yaxis": "y"
        },
        {
         "hovertemplate": "Blog Topic=%{x}<br>Number of Blogs=%{text}<extra></extra>",
         "legendgroup": "cloud-services",
         "marker": {
          "color": "#FF97FF",
          "pattern": {
           "shape": ""
          }
         },
         "name": "cloud-services",
         "orientation": "v",
         "showlegend": true,
         "text": {
          "bdata": "AAAAAAAwdUA=",
          "dtype": "f8"
         },
         "textposition": "outside",
         "type": "bar",
         "x": [
          "cloud-services"
         ],
         "xaxis": "x",
         "y": {
          "bdata": "UwE=",
          "dtype": "i2"
         },
         "yaxis": "y"
        },
        {
         "hovertemplate": "Blog Topic=%{x}<br>Number of Blogs=%{text}<extra></extra>",
         "legendgroup": "Cryptocurrency",
         "marker": {
          "color": "#FECB52",
          "pattern": {
           "shape": ""
          }
         },
         "name": "Cryptocurrency",
         "orientation": "v",
         "showlegend": true,
         "text": {
          "bdata": "AAAAAACwdEA=",
          "dtype": "f8"
         },
         "textposition": "outside",
         "type": "bar",
         "x": [
          "Cryptocurrency"
         ],
         "xaxis": "x",
         "y": {
          "bdata": "SwE=",
          "dtype": "i2"
         },
         "yaxis": "y"
        },
        {
         "hovertemplate": "Blog Topic=%{x}<br>Number of Blogs=%{text}<extra></extra>",
         "legendgroup": "app-development",
         "marker": {
          "color": "#636efa",
          "pattern": {
           "shape": ""
          }
         },
         "name": "app-development",
         "orientation": "v",
         "showlegend": true,
         "text": {
          "bdata": "AAAAAAAgdEA=",
          "dtype": "f8"
         },
         "textposition": "outside",
         "type": "bar",
         "x": [
          "app-development"
         ],
         "xaxis": "x",
         "y": {
          "bdata": "QgE=",
          "dtype": "i2"
         },
         "yaxis": "y"
        },
        {
         "hovertemplate": "Blog Topic=%{x}<br>Number of Blogs=%{text}<extra></extra>",
         "legendgroup": "backend-development",
         "marker": {
          "color": "#EF553B",
          "pattern": {
           "shape": ""
          }
         },
         "name": "backend-development",
         "orientation": "v",
         "showlegend": true,
         "text": {
          "bdata": "AAAAAACAc0A=",
          "dtype": "f8"
         },
         "textposition": "outside",
         "type": "bar",
         "x": [
          "backend-development"
         ],
         "xaxis": "x",
         "y": {
          "bdata": "OAE=",
          "dtype": "i2"
         },
         "yaxis": "y"
        },
        {
         "hovertemplate": "Blog Topic=%{x}<br>Number of Blogs=%{text}<extra></extra>",
         "legendgroup": "Software-Development",
         "marker": {
          "color": "#00cc96",
          "pattern": {
           "shape": ""
          }
         },
         "name": "Software-Development",
         "orientation": "v",
         "showlegend": true,
         "text": {
          "bdata": "AAAAAABQc0A=",
          "dtype": "f8"
         },
         "textposition": "outside",
         "type": "bar",
         "x": [
          "Software-Development"
         ],
         "xaxis": "x",
         "y": {
          "bdata": "NQE=",
          "dtype": "i2"
         },
         "yaxis": "y"
        }
       ],
       "layout": {
        "barmode": "relative",
        "legend": {
         "title": {
          "text": "Blog Topic"
         },
         "tracegroupgap": 0
        },
        "plot_bgcolor": "rgba(245, 245, 245, 1)",
        "showlegend": false,
        "template": {
         "data": {
          "bar": [
           {
            "error_x": {
             "color": "#2a3f5f"
            },
            "error_y": {
             "color": "#2a3f5f"
            },
            "marker": {
             "line": {
              "color": "#E5ECF6",
              "width": 0.5
             },
             "pattern": {
              "fillmode": "overlay",
              "size": 10,
              "solidity": 0.2
             }
            },
            "type": "bar"
           }
          ],
          "barpolar": [
           {
            "marker": {
             "line": {
              "color": "#E5ECF6",
              "width": 0.5
             },
             "pattern": {
              "fillmode": "overlay",
              "size": 10,
              "solidity": 0.2
             }
            },
            "type": "barpolar"
           }
          ],
          "carpet": [
           {
            "aaxis": {
             "endlinecolor": "#2a3f5f",
             "gridcolor": "white",
             "linecolor": "white",
             "minorgridcolor": "white",
             "startlinecolor": "#2a3f5f"
            },
            "baxis": {
             "endlinecolor": "#2a3f5f",
             "gridcolor": "white",
             "linecolor": "white",
             "minorgridcolor": "white",
             "startlinecolor": "#2a3f5f"
            },
            "type": "carpet"
           }
          ],
          "choropleth": [
           {
            "colorbar": {
             "outlinewidth": 0,
             "ticks": ""
            },
            "type": "choropleth"
           }
          ],
          "contour": [
           {
            "colorbar": {
             "outlinewidth": 0,
             "ticks": ""
            },
            "colorscale": [
             [
              0,
              "#0d0887"
             ],
             [
              0.1111111111111111,
              "#46039f"
             ],
             [
              0.2222222222222222,
              "#7201a8"
             ],
             [
              0.3333333333333333,
              "#9c179e"
             ],
             [
              0.4444444444444444,
              "#bd3786"
             ],
             [
              0.5555555555555556,
              "#d8576b"
             ],
             [
              0.6666666666666666,
              "#ed7953"
             ],
             [
              0.7777777777777778,
              "#fb9f3a"
             ],
             [
              0.8888888888888888,
              "#fdca26"
             ],
             [
              1,
              "#f0f921"
             ]
            ],
            "type": "contour"
           }
          ],
          "contourcarpet": [
           {
            "colorbar": {
             "outlinewidth": 0,
             "ticks": ""
            },
            "type": "contourcarpet"
           }
          ],
          "heatmap": [
           {
            "colorbar": {
             "outlinewidth": 0,
             "ticks": ""
            },
            "colorscale": [
             [
              0,
              "#0d0887"
             ],
             [
              0.1111111111111111,
              "#46039f"
             ],
             [
              0.2222222222222222,
              "#7201a8"
             ],
             [
              0.3333333333333333,
              "#9c179e"
             ],
             [
              0.4444444444444444,
              "#bd3786"
             ],
             [
              0.5555555555555556,
              "#d8576b"
             ],
             [
              0.6666666666666666,
              "#ed7953"
             ],
             [
              0.7777777777777778,
              "#fb9f3a"
             ],
             [
              0.8888888888888888,
              "#fdca26"
             ],
             [
              1,
              "#f0f921"
             ]
            ],
            "type": "heatmap"
           }
          ],
          "histogram": [
           {
            "marker": {
             "pattern": {
              "fillmode": "overlay",
              "size": 10,
              "solidity": 0.2
             }
            },
            "type": "histogram"
           }
          ],
          "histogram2d": [
           {
            "colorbar": {
             "outlinewidth": 0,
             "ticks": ""
            },
            "colorscale": [
             [
              0,
              "#0d0887"
             ],
             [
              0.1111111111111111,
              "#46039f"
             ],
             [
              0.2222222222222222,
              "#7201a8"
             ],
             [
              0.3333333333333333,
              "#9c179e"
             ],
             [
              0.4444444444444444,
              "#bd3786"
             ],
             [
              0.5555555555555556,
              "#d8576b"
             ],
             [
              0.6666666666666666,
              "#ed7953"
             ],
             [
              0.7777777777777778,
              "#fb9f3a"
             ],
             [
              0.8888888888888888,
              "#fdca26"
             ],
             [
              1,
              "#f0f921"
             ]
            ],
            "type": "histogram2d"
           }
          ],
          "histogram2dcontour": [
           {
            "colorbar": {
             "outlinewidth": 0,
             "ticks": ""
            },
            "colorscale": [
             [
              0,
              "#0d0887"
             ],
             [
              0.1111111111111111,
              "#46039f"
             ],
             [
              0.2222222222222222,
              "#7201a8"
             ],
             [
              0.3333333333333333,
              "#9c179e"
             ],
             [
              0.4444444444444444,
              "#bd3786"
             ],
             [
              0.5555555555555556,
              "#d8576b"
             ],
             [
              0.6666666666666666,
              "#ed7953"
             ],
             [
              0.7777777777777778,
              "#fb9f3a"
             ],
             [
              0.8888888888888888,
              "#fdca26"
             ],
             [
              1,
              "#f0f921"
             ]
            ],
            "type": "histogram2dcontour"
           }
          ],
          "mesh3d": [
           {
            "colorbar": {
             "outlinewidth": 0,
             "ticks": ""
            },
            "type": "mesh3d"
           }
          ],
          "parcoords": [
           {
            "line": {
             "colorbar": {
              "outlinewidth": 0,
              "ticks": ""
             }
            },
            "type": "parcoords"
           }
          ],
          "pie": [
           {
            "automargin": true,
            "type": "pie"
           }
          ],
          "scatter": [
           {
            "fillpattern": {
             "fillmode": "overlay",
             "size": 10,
             "solidity": 0.2
            },
            "type": "scatter"
           }
          ],
          "scatter3d": [
           {
            "line": {
             "colorbar": {
              "outlinewidth": 0,
              "ticks": ""
             }
            },
            "marker": {
             "colorbar": {
              "outlinewidth": 0,
              "ticks": ""
             }
            },
            "type": "scatter3d"
           }
          ],
          "scattercarpet": [
           {
            "marker": {
             "colorbar": {
              "outlinewidth": 0,
              "ticks": ""
             }
            },
            "type": "scattercarpet"
           }
          ],
          "scattergeo": [
           {
            "marker": {
             "colorbar": {
              "outlinewidth": 0,
              "ticks": ""
             }
            },
            "type": "scattergeo"
           }
          ],
          "scattergl": [
           {
            "marker": {
             "colorbar": {
              "outlinewidth": 0,
              "ticks": ""
             }
            },
            "type": "scattergl"
           }
          ],
          "scattermap": [
           {
            "marker": {
             "colorbar": {
              "outlinewidth": 0,
              "ticks": ""
             }
            },
            "type": "scattermap"
           }
          ],
          "scattermapbox": [
           {
            "marker": {
             "colorbar": {
              "outlinewidth": 0,
              "ticks": ""
             }
            },
            "type": "scattermapbox"
           }
          ],
          "scatterpolar": [
           {
            "marker": {
             "colorbar": {
              "outlinewidth": 0,
              "ticks": ""
             }
            },
            "type": "scatterpolar"
           }
          ],
          "scatterpolargl": [
           {
            "marker": {
             "colorbar": {
              "outlinewidth": 0,
              "ticks": ""
             }
            },
            "type": "scatterpolargl"
           }
          ],
          "scatterternary": [
           {
            "marker": {
             "colorbar": {
              "outlinewidth": 0,
              "ticks": ""
             }
            },
            "type": "scatterternary"
           }
          ],
          "surface": [
           {
            "colorbar": {
             "outlinewidth": 0,
             "ticks": ""
            },
            "colorscale": [
             [
              0,
              "#0d0887"
             ],
             [
              0.1111111111111111,
              "#46039f"
             ],
             [
              0.2222222222222222,
              "#7201a8"
             ],
             [
              0.3333333333333333,
              "#9c179e"
             ],
             [
              0.4444444444444444,
              "#bd3786"
             ],
             [
              0.5555555555555556,
              "#d8576b"
             ],
             [
              0.6666666666666666,
              "#ed7953"
             ],
             [
              0.7777777777777778,
              "#fb9f3a"
             ],
             [
              0.8888888888888888,
              "#fdca26"
             ],
             [
              1,
              "#f0f921"
             ]
            ],
            "type": "surface"
           }
          ],
          "table": [
           {
            "cells": {
             "fill": {
              "color": "#EBF0F8"
             },
             "line": {
              "color": "white"
             }
            },
            "header": {
             "fill": {
              "color": "#C8D4E3"
             },
             "line": {
              "color": "white"
             }
            },
            "type": "table"
           }
          ]
         },
         "layout": {
          "annotationdefaults": {
           "arrowcolor": "#2a3f5f",
           "arrowhead": 0,
           "arrowwidth": 1
          },
          "autotypenumbers": "strict",
          "coloraxis": {
           "colorbar": {
            "outlinewidth": 0,
            "ticks": ""
           }
          },
          "colorscale": {
           "diverging": [
            [
             0,
             "#8e0152"
            ],
            [
             0.1,
             "#c51b7d"
            ],
            [
             0.2,
             "#de77ae"
            ],
            [
             0.3,
             "#f1b6da"
            ],
            [
             0.4,
             "#fde0ef"
            ],
            [
             0.5,
             "#f7f7f7"
            ],
            [
             0.6,
             "#e6f5d0"
            ],
            [
             0.7,
             "#b8e186"
            ],
            [
             0.8,
             "#7fbc41"
            ],
            [
             0.9,
             "#4d9221"
            ],
            [
             1,
             "#276419"
            ]
           ],
           "sequential": [
            [
             0,
             "#0d0887"
            ],
            [
             0.1111111111111111,
             "#46039f"
            ],
            [
             0.2222222222222222,
             "#7201a8"
            ],
            [
             0.3333333333333333,
             "#9c179e"
            ],
            [
             0.4444444444444444,
             "#bd3786"
            ],
            [
             0.5555555555555556,
             "#d8576b"
            ],
            [
             0.6666666666666666,
             "#ed7953"
            ],
            [
             0.7777777777777778,
             "#fb9f3a"
            ],
            [
             0.8888888888888888,
             "#fdca26"
            ],
            [
             1,
             "#f0f921"
            ]
           ],
           "sequentialminus": [
            [
             0,
             "#0d0887"
            ],
            [
             0.1111111111111111,
             "#46039f"
            ],
            [
             0.2222222222222222,
             "#7201a8"
            ],
            [
             0.3333333333333333,
             "#9c179e"
            ],
            [
             0.4444444444444444,
             "#bd3786"
            ],
            [
             0.5555555555555556,
             "#d8576b"
            ],
            [
             0.6666666666666666,
             "#ed7953"
            ],
            [
             0.7777777777777778,
             "#fb9f3a"
            ],
            [
             0.8888888888888888,
             "#fdca26"
            ],
            [
             1,
             "#f0f921"
            ]
           ]
          },
          "colorway": [
           "#636efa",
           "#EF553B",
           "#00cc96",
           "#ab63fa",
           "#FFA15A",
           "#19d3f3",
           "#FF6692",
           "#B6E880",
           "#FF97FF",
           "#FECB52"
          ],
          "font": {
           "color": "#2a3f5f"
          },
          "geo": {
           "bgcolor": "white",
           "lakecolor": "white",
           "landcolor": "#E5ECF6",
           "showlakes": true,
           "showland": true,
           "subunitcolor": "white"
          },
          "hoverlabel": {
           "align": "left"
          },
          "hovermode": "closest",
          "mapbox": {
           "style": "light"
          },
          "paper_bgcolor": "white",
          "plot_bgcolor": "#E5ECF6",
          "polar": {
           "angularaxis": {
            "gridcolor": "white",
            "linecolor": "white",
            "ticks": ""
           },
           "bgcolor": "#E5ECF6",
           "radialaxis": {
            "gridcolor": "white",
            "linecolor": "white",
            "ticks": ""
           }
          },
          "scene": {
           "xaxis": {
            "backgroundcolor": "#E5ECF6",
            "gridcolor": "white",
            "gridwidth": 2,
            "linecolor": "white",
            "showbackground": true,
            "ticks": "",
            "zerolinecolor": "white"
           },
           "yaxis": {
            "backgroundcolor": "#E5ECF6",
            "gridcolor": "white",
            "gridwidth": 2,
            "linecolor": "white",
            "showbackground": true,
            "ticks": "",
            "zerolinecolor": "white"
           },
           "zaxis": {
            "backgroundcolor": "#E5ECF6",
            "gridcolor": "white",
            "gridwidth": 2,
            "linecolor": "white",
            "showbackground": true,
            "ticks": "",
            "zerolinecolor": "white"
           }
          },
          "shapedefaults": {
           "line": {
            "color": "#2a3f5f"
           }
          },
          "ternary": {
           "aaxis": {
            "gridcolor": "white",
            "linecolor": "white",
            "ticks": ""
           },
           "baxis": {
            "gridcolor": "white",
            "linecolor": "white",
            "ticks": ""
           },
           "bgcolor": "#E5ECF6",
           "caxis": {
            "gridcolor": "white",
            "linecolor": "white",
            "ticks": ""
           }
          },
          "title": {
           "x": 0.05
          },
          "xaxis": {
           "automargin": true,
           "gridcolor": "white",
           "linecolor": "white",
           "ticks": "",
           "title": {
            "standoff": 15
           },
           "zerolinecolor": "white",
           "zerolinewidth": 2
          },
          "yaxis": {
           "automargin": true,
           "gridcolor": "white",
           "linecolor": "white",
           "ticks": "",
           "title": {
            "standoff": 15
           },
           "zerolinecolor": "white",
           "zerolinewidth": 2
          }
         }
        },
        "title": {
         "text": "Number of Blogs per Topic"
        },
        "xaxis": {
         "anchor": "y",
         "categoryarray": [
          "ai",
          "blockchain",
          "cybersecurity",
          "web-development",
          "data-analysis",
          "cloud-computing",
          "security",
          "web3",
          "machine-learning",
          "nlp",
          "data-science",
          "deep-learning",
          "android",
          "dev-ops",
          "information-security",
          "image-processing",
          "flutter",
          "backend",
          "cloud-services",
          "Cryptocurrency",
          "app-development",
          "backend-development",
          "Software-Development"
         ],
         "categoryorder": "array",
         "domain": [
          0,
          1
         ],
         "tickangle": 45,
         "title": {
          "text": "Blog Topic"
         }
        },
        "yaxis": {
         "anchor": "x",
         "domain": [
          0,
          1
         ],
         "title": {
          "text": "Number of Blogs"
         }
        }
       }
      }
     },
     "metadata": {},
     "output_type": "display_data"
    }
   ],
   "source": [
    "import plotly.express as px\n",
    "# Prepare topic counts\n",
    "# Create box plot of ratings by topic\n",
    "# Count of blogs per topic\n",
    "topic_counts = blogs_df['topic'].value_counts()\n",
    "\n",
    "#\n",
    "topic_counts_df = topic_counts.reset_index()\n",
    "topic_counts_df.columns = ['topic', 'count']\n",
    "\n",
    "fig = px.bar(\n",
    "    topic_counts_df,\n",
    "    x='topic',\n",
    "    y='count',\n",
    "    title='Number of Blogs per Topic',\n",
    "    labels={'topic': 'Blog Topic', 'count': 'Number of Blogs'},\n",
    "    text='count',\n",
    "    color='topic'\n",
    ")\n",
    "\n",
    "fig.update_traces(textposition='outside')\n",
    "fig.update_layout(\n",
    "    xaxis_tickangle=45,\n",
    "    plot_bgcolor='rgba(245, 245, 245, 1)',\n",
    "    showlegend=False\n",
    ")\n",
    "\n",
    "fig.show()"
   ]
  }
 ],
 "metadata": {
  "kernelspec": {
   "display_name": "streamlitenv",
   "language": "python",
   "name": "python3"
  },
  "language_info": {
   "codemirror_mode": {
    "name": "ipython",
    "version": 3
   },
   "file_extension": ".py",
   "mimetype": "text/x-python",
   "name": "python",
   "nbconvert_exporter": "python",
   "pygments_lexer": "ipython3",
   "version": "3.11.9"
  }
 },
 "nbformat": 4,
 "nbformat_minor": 2
}
