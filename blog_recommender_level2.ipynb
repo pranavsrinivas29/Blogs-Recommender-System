{
 "cells": [
  {
   "cell_type": "code",
   "execution_count": 2,
   "metadata": {},
   "outputs": [],
   "source": [
    "import pandas as pd\n",
    "import numpy as np\n",
    "from sklearn.feature_extraction.text import TfidfVectorizer\n",
    "from sklearn.metrics.pairwise import cosine_similarity"
   ]
  },
  {
   "cell_type": "code",
   "execution_count": 11,
   "metadata": {},
   "outputs": [],
   "source": [
    "blogs_rating_df = pd.read_csv('data/Blog Ratings.csv')\n",
    "blogs_df = pd.read_csv('data/Medium Blog Data.csv')\n",
    "authors_df = pd.read_csv('data/Authors_Data_Cleaned.csv')"
   ]
  },
  {
   "cell_type": "code",
   "execution_count": 9,
   "metadata": {},
   "outputs": [
    {
     "data": {
      "text/html": [
       "<div>\n",
       "<style scoped>\n",
       "    .dataframe tbody tr th:only-of-type {\n",
       "        vertical-align: middle;\n",
       "    }\n",
       "\n",
       "    .dataframe tbody tr th {\n",
       "        vertical-align: top;\n",
       "    }\n",
       "\n",
       "    .dataframe thead th {\n",
       "        text-align: right;\n",
       "    }\n",
       "</style>\n",
       "<table border=\"1\" class=\"dataframe\">\n",
       "  <thead>\n",
       "    <tr style=\"text-align: right;\">\n",
       "      <th></th>\n",
       "      <th>blog_id</th>\n",
       "      <th>author_id</th>\n",
       "      <th>blog_title</th>\n",
       "      <th>blog_content</th>\n",
       "      <th>blog_link</th>\n",
       "      <th>blog_img</th>\n",
       "      <th>topic</th>\n",
       "      <th>scrape_time</th>\n",
       "    </tr>\n",
       "  </thead>\n",
       "  <tbody>\n",
       "    <tr>\n",
       "      <th>18</th>\n",
       "      <td>23</td>\n",
       "      <td>26</td>\n",
       "      <td>Why AI art can be real art, opening new and ex...</td>\n",
       "      <td>Art has been an expression of creativity since...</td>\n",
       "      <td>https://medium.com/@themarco/why-ai-art-can-be...</td>\n",
       "      <td>https://miro.medium.com/fit/c/140/140/0*5tSk6n...</td>\n",
       "      <td>ai</td>\n",
       "      <td>2023-02-27 07:41:47</td>\n",
       "    </tr>\n",
       "  </tbody>\n",
       "</table>\n",
       "</div>"
      ],
      "text/plain": [
       "    blog_id  author_id                                         blog_title  \\\n",
       "18       23         26  Why AI art can be real art, opening new and ex...   \n",
       "\n",
       "                                         blog_content  \\\n",
       "18  Art has been an expression of creativity since...   \n",
       "\n",
       "                                            blog_link  \\\n",
       "18  https://medium.com/@themarco/why-ai-art-can-be...   \n",
       "\n",
       "                                             blog_img topic  \\\n",
       "18  https://miro.medium.com/fit/c/140/140/0*5tSk6n...    ai   \n",
       "\n",
       "            scrape_time  \n",
       "18  2023-02-27 07:41:47  "
      ]
     },
     "execution_count": 9,
     "metadata": {},
     "output_type": "execute_result"
    }
   ],
   "source": [
    "blogs_df[blogs_df['blog_id']==23]"
   ]
  },
  {
   "cell_type": "markdown",
   "metadata": {},
   "source": [
    "### Content-Based Recommender Using TF-IDF\n",
    "#### Recommend blogs similar to those a user liked/favorited, based on textual content similarity."
   ]
  },
  {
   "cell_type": "code",
   "execution_count": null,
   "metadata": {},
   "outputs": [
    {
     "name": "stdout",
     "output_type": "stream",
     "text": [
      "      blog_id                                         blog_title  \\\n",
      "5634     5661  🤖🎨 Is AI Killing Creativity? How to Safeguard ...   \n",
      "132       141  Discover the Best AI Art with Imaginative Arts...   \n",
      "3122     3149       Unique Traditional Art VS Soaring AI Drawing   \n",
      "3478     3505  Unleashing Creativity with AI: How Artificial ...   \n",
      "1388     1415                                  Art of Leadership   \n",
      "\n",
      "                 topic  \n",
      "5634  machine-learning  \n",
      "132                 ai  \n",
      "3122                ai  \n",
      "3478                ai  \n",
      "1388                ai  \n"
     ]
    }
   ],
   "source": [
    "# Step 1: Fit TF-IDF on blog content\n",
    "tfidf = TfidfVectorizer(stop_words='english', max_features=5000)\n",
    "tfidf_matrix = tfidf.fit_transform(blogs_df['blog_content'].fillna(''))\n",
    "\n",
    "# Step 2: Function to recommend similar blogs to a given blog_id\n",
    "def recommend_similar_blogs(blog_id, top_n=5):\n",
    "    blog_idx = blogs_df[blogs_df['blog_id'] == blog_id].index[0]\n",
    "    cosine_sim = cosine_similarity(tfidf_matrix[blog_idx], tfidf_matrix).flatten()\n",
    "    similar_indices = cosine_sim.argsort()[::-1][1:top_n+1]\n",
    "    return blogs_df.iloc[similar_indices][['blog_id', 'blog_title', 'topic']]\n",
    "\n",
    "# Example usage\n",
    "print(recommend_similar_blogs(blog_id=23))  # Replace with different blog_id"
   ]
  },
  {
   "cell_type": "markdown",
   "metadata": {},
   "source": [
    "### User-User Collaborative Filtering (kNN)\n",
    "#### Recommend blogs liked/ rated by similar users, based on the ratings matrix."
   ]
  },
  {
   "cell_type": "code",
   "execution_count": 15,
   "metadata": {},
   "outputs": [
    {
     "data": {
      "text/html": [
       "<div>\n",
       "<style scoped>\n",
       "    .dataframe tbody tr th:only-of-type {\n",
       "        vertical-align: middle;\n",
       "    }\n",
       "\n",
       "    .dataframe tbody tr th {\n",
       "        vertical-align: top;\n",
       "    }\n",
       "\n",
       "    .dataframe thead th {\n",
       "        text-align: right;\n",
       "    }\n",
       "</style>\n",
       "<table border=\"1\" class=\"dataframe\">\n",
       "  <thead>\n",
       "    <tr style=\"text-align: right;\">\n",
       "      <th></th>\n",
       "      <th>blog_id</th>\n",
       "      <th>userId</th>\n",
       "      <th>ratings</th>\n",
       "    </tr>\n",
       "  </thead>\n",
       "  <tbody>\n",
       "    <tr>\n",
       "      <th>0</th>\n",
       "      <td>9025</td>\n",
       "      <td>11</td>\n",
       "      <td>3.5</td>\n",
       "    </tr>\n",
       "    <tr>\n",
       "      <th>1</th>\n",
       "      <td>9320</td>\n",
       "      <td>11</td>\n",
       "      <td>5.0</td>\n",
       "    </tr>\n",
       "  </tbody>\n",
       "</table>\n",
       "</div>"
      ],
      "text/plain": [
       "   blog_id  userId  ratings\n",
       "0     9025      11      3.5\n",
       "1     9320      11      5.0"
      ]
     },
     "execution_count": 15,
     "metadata": {},
     "output_type": "execute_result"
    }
   ],
   "source": [
    "blogs_rating_df.head(2)"
   ]
  },
  {
   "cell_type": "code",
   "execution_count": 12,
   "metadata": {},
   "outputs": [
    {
     "data": {
      "text/html": [
       "<div>\n",
       "<style scoped>\n",
       "    .dataframe tbody tr th:only-of-type {\n",
       "        vertical-align: middle;\n",
       "    }\n",
       "\n",
       "    .dataframe tbody tr th {\n",
       "        vertical-align: top;\n",
       "    }\n",
       "\n",
       "    .dataframe thead th {\n",
       "        text-align: right;\n",
       "    }\n",
       "</style>\n",
       "<table border=\"1\" class=\"dataframe\">\n",
       "  <thead>\n",
       "    <tr style=\"text-align: right;\">\n",
       "      <th></th>\n",
       "      <th>author_id</th>\n",
       "      <th>author_name</th>\n",
       "    </tr>\n",
       "  </thead>\n",
       "  <tbody>\n",
       "    <tr>\n",
       "      <th>0</th>\n",
       "      <td>1</td>\n",
       "      <td>Yaksh</td>\n",
       "    </tr>\n",
       "    <tr>\n",
       "      <th>1</th>\n",
       "      <td>2</td>\n",
       "      <td>Xit</td>\n",
       "    </tr>\n",
       "  </tbody>\n",
       "</table>\n",
       "</div>"
      ],
      "text/plain": [
       "   author_id author_name\n",
       "0          1       Yaksh\n",
       "1          2         Xit"
      ]
     },
     "execution_count": 12,
     "metadata": {},
     "output_type": "execute_result"
    }
   ],
   "source": [
    "authors_df.head(2)"
   ]
  },
  {
   "cell_type": "code",
   "execution_count": 19,
   "metadata": {},
   "outputs": [
    {
     "name": "stdout",
     "output_type": "stream",
     "text": [
      "blog_id  1     3     4     5     6     7     9     10    11    12    ...  \\\n",
      "userId                                                               ...   \n",
      "10        0.0   0.0   0.0   0.0   0.0   0.0   0.0   0.0   0.0   0.0  ...   \n",
      "11        0.0   0.0   5.0   0.0   0.0   0.0   0.0   5.0   0.0   0.0  ...   \n",
      "12        0.0   0.0   0.0   0.0   0.0   0.0   0.0   0.0   0.0   0.0  ...   \n",
      "13        0.0   0.0   0.0   0.0   0.0   0.0   0.0   0.0   0.0   0.0  ...   \n",
      "14        0.0   0.0   0.0   0.0   2.0   0.5   0.0   5.0   3.5   0.0  ...   \n",
      "...       ...   ...   ...   ...   ...   ...   ...   ...   ...   ...  ...   \n",
      "5006      0.0   0.0   0.0   0.0   0.0   0.0   0.0   0.0   0.0   0.0  ...   \n",
      "5007      0.0   0.0   0.0   0.0   0.0   0.0   0.0   0.0   0.0   0.0  ...   \n",
      "5008      0.0   0.0   0.0   0.0   0.0   0.0   0.0   0.0   0.0   0.0  ...   \n",
      "5009      0.0   0.0   0.0   0.0   0.0   0.0   0.0   0.0   0.0   0.0  ...   \n",
      "5010      0.0   0.0   0.0   0.0   0.0   0.0   0.0   0.0   0.0   0.0  ...   \n",
      "\n",
      "blog_id  9746  9747  9748  9749  9750  9751  9752  9753  9754  9755  \n",
      "userId                                                               \n",
      "10        0.0   0.0   0.0   0.0   0.0   0.0   0.0   0.0   0.0   0.0  \n",
      "11        0.0   0.0   0.0   0.0   0.0   0.0   0.0   0.0   0.0   0.0  \n",
      "12        0.0   0.0   0.0   0.0   0.0   0.0   0.0   0.0   0.0   0.0  \n",
      "13        0.0   0.0   0.0   0.0   0.0   0.0   0.0   0.0   0.0   0.0  \n",
      "14        0.0   0.0   0.0   0.0   0.0   0.0   0.0   0.0   0.0   0.0  \n",
      "...       ...   ...   ...   ...   ...   ...   ...   ...   ...   ...  \n",
      "5006      0.0   0.0   0.0   0.0   0.0   0.0   0.0   0.0   0.0   0.0  \n",
      "5007      0.0   0.0   0.0   0.0   0.0   0.0   0.0   0.0   0.0   0.0  \n",
      "5008      0.0   0.0   0.0   0.0   0.0   0.0   0.0   0.0   0.0   0.0  \n",
      "5009      0.0   0.0   0.0   0.0   0.0   0.0   0.0   0.0   0.0   0.0  \n",
      "5010      0.0   0.0   0.0   0.0   5.0   0.0   0.0   0.0   0.0   0.0  \n",
      "\n",
      "[5001 rows x 9706 columns]\n"
     ]
    }
   ],
   "source": [
    "from sklearn.neighbors import NearestNeighbors\n",
    "from scipy.sparse import csr_matrix\n",
    "\n",
    "# Step 1: Create user-item rating matrix\n",
    "user_blog_matrix = blogs_rating_df.pivot_table(\n",
    "    index='userId',\n",
    "    columns='blog_id',\n",
    "    values='ratings'\n",
    ").fillna(0)\n",
    "\n",
    "print(user_blog_matrix)"
   ]
  },
  {
   "cell_type": "code",
   "execution_count": 26,
   "metadata": {},
   "outputs": [
    {
     "name": "stdout",
     "output_type": "stream",
     "text": [
      "      blog_id                                         blog_title  \\\n",
      "1036     1063  Here are 10 ideas that combine the strengths o...   \n",
      "9305     9332  Hosting the Roost: 40 Jobs to Rule the Web on ...   \n",
      "9308     9335                             Key Features of Kotlin   \n",
      "9323     9350  How to Build a Responsive Accordion/Collapsibl...   \n",
      "9389     9416  Top 6 Free JavaScript SEO Tools to Improve You...   \n",
      "\n",
      "                topic  \n",
      "1036             web3  \n",
      "9305  web-development  \n",
      "9308  web-development  \n",
      "9323  web-development  \n",
      "9389  web-development  \n"
     ]
    }
   ],
   "source": [
    "\n",
    "\n",
    "# Step 2: Fit kNN model on user vectors\n",
    "knn_model = NearestNeighbors(metric='cosine', algorithm='brute')\n",
    "knn_model.fit(csr_matrix(user_blog_matrix.values))\n",
    "\n",
    "# Step 3: Get top N users similar to a given user\n",
    "def recommend_from_similar_users(userId, top_n=5):\n",
    "    if userId not in user_blog_matrix.index:\n",
    "        return f\"User {userId} not found.\"\n",
    "\n",
    "    user_vector = user_blog_matrix.loc[[userId]].values\n",
    "    distances, indices = knn_model.kneighbors(user_vector, n_neighbors=top_n+1)\n",
    "\n",
    "    similar_user_ids = user_blog_matrix.index[indices.flatten()[1:]]\n",
    "    similar_users_data = blogs_rating_df[blogs_rating_df['userId'].isin(similar_user_ids)]\n",
    "\n",
    "    # Recommend top blogs these users liked\n",
    "    top_recs = similar_users_data[similar_users_data['ratings'] >= 3.5] \\\n",
    "        .groupby('blog_id').agg(avg_rating=('ratings', 'mean'), count=('ratings', 'count')) \\\n",
    "        .reset_index().sort_values(by='avg_rating', ascending=False).head(top_n)\n",
    "\n",
    "    return blogs_df[blogs_df['blog_id'].isin(top_recs['blog_id'])][['blog_id', 'blog_title', 'topic']]\n",
    "\n",
    "# Example usage\n",
    "print(recommend_from_similar_users(userId=11))  # Replace with actual userId\n"
   ]
  },
  {
   "cell_type": "markdown",
   "metadata": {},
   "source": [
    "### Item-Item Collaborative Filtering\n",
    "#### Instead of finding similar users, this model finds similar blogs based on how users rated them."
   ]
  },
  {
   "cell_type": "code",
   "execution_count": 22,
   "metadata": {},
   "outputs": [
    {
     "name": "stdout",
     "output_type": "stream",
     "text": [
      "      blog_id                                         blog_title topic\n",
      "224       244  Aptos Labs brings Web3 to Gaming with its new ...  web3\n",
      "953       980                                    LXDAO Weekly#42  web3\n",
      "983      1010                  Uldor Monthly Update — March 2023  web3\n",
      "986      1013                          Mission Dawn Newbie Guide  web3\n",
      "4952     4979  Mobile Movement: Dialect Rugged By Apple, Sola...  web3\n"
     ]
    }
   ],
   "source": [
    "# Step 1: Create blog-user rating matrix\n",
    "blog_user_matrix = blogs_rating_df.pivot_table(\n",
    "    index='blog_id',\n",
    "    columns='userId',\n",
    "    values='ratings'\n",
    ").fillna(0)\n",
    "\n",
    "# Step 2: Fit kNN model on blog vectors\n",
    "knn_item_model = NearestNeighbors(metric='cosine', algorithm='brute')\n",
    "knn_item_model.fit(csr_matrix(blog_user_matrix.values))\n",
    "\n",
    "# Step 3: Recommend similar blogs to a given blog\n",
    "def recommend_similar_blogs_item_based(blog_id, top_n=5):\n",
    "    if blog_id not in blog_user_matrix.index:\n",
    "        return f\"Blog {blog_id} not found.\"\n",
    "\n",
    "    blog_vector = blog_user_matrix.loc[[blog_id]].values\n",
    "    distances, indices = knn_item_model.kneighbors(blog_vector, n_neighbors=top_n + 1)\n",
    "\n",
    "    similar_blog_ids = blog_user_matrix.index[indices.flatten()[1:]]  # skip itself\n",
    "\n",
    "    return blogs_df[blogs_df['blog_id'].isin(similar_blog_ids)][['blog_id', 'blog_title', 'topic']]\n",
    "\n",
    "print(recommend_similar_blogs_item_based(blog_id=1063)) \n"
   ]
  },
  {
   "cell_type": "markdown",
   "metadata": {},
   "source": [
    "### Cold Start – User\n",
    "#### Recommend blogs to new users based on popularity or recency."
   ]
  },
  {
   "cell_type": "code",
   "execution_count": null,
   "metadata": {},
   "outputs": [
    {
     "name": "stdout",
     "output_type": "stream",
     "text": [
      "      blog_id                                         blog_title  avg_rating  \\\n",
      "8535     8582  Top Mobile App Development Trends To Look Out ...    3.981132   \n",
      "8636     8683       Deploying Docker Containers with Bind Mounts    3.811321   \n",
      "9618     9668  10 Advanced Techniques Every Senior React Engi...    3.823529   \n",
      "2653     2685  Backend with Spring & Kotlin: Spring Data with...    3.730769   \n",
      "8328     8374           Ultimate CI/CD For Flutter Mobile Apps 🚀    3.987500   \n",
      "8738     8785  Flutter Widget Lifecycle: Everything You Need ...    3.603448   \n",
      "2697     2730                               ReactJS Notlarım — 2    3.636364   \n",
      "2925     2959                                       Why FastAPI?    3.793478   \n",
      "9470     9519  Redis vs. Other Databases: An In-Depth Compari...    3.793478   \n",
      "8823     8870            Flutter Web — Runtime Docker variables.    3.577586   \n",
      "\n",
      "      num_ratings         latest_time  weighted_score  \n",
      "8535           53 2023-04-04 08:53:52       15.880672  \n",
      "8636           53 2023-04-04 08:53:52       15.203298  \n",
      "9618           51 2023-04-04 08:53:52       15.107697  \n",
      "2653           52 2023-04-04 08:53:52       14.812243  \n",
      "8328           40 2023-04-04 08:53:52       14.807869  \n",
      "8738           58 2023-04-04 08:53:52       14.693195  \n",
      "2697           55 2023-04-04 08:53:52       14.637643  \n",
      "2925           46 2023-04-04 08:53:52       14.605451  \n",
      "9470           46 2023-04-04 08:53:52       14.605451  \n",
      "8823           58 2023-04-04 08:53:52       14.587742  \n"
     ]
    }
   ],
   "source": [
    "def recommend_for_new_user(top_n=10):\n",
    "    # Merge ratings with blog metadata\n",
    "    merged_df = blogs_rating_df.merge(blogs_df, on='blog_id', how='inner')\n",
    "    merged_df['scrape_time'] = pd.to_datetime(merged_df['scrape_time'])\n",
    "\n",
    "    # Group by blog to get average rating and number of ratings\n",
    "    stats_df = merged_df.groupby(['blog_id', 'blog_title']).agg(\n",
    "        avg_rating=('ratings', 'mean'),/\n",
    "        num_ratings=('ratings', 'count'),\n",
    "        latest_time=('scrape_time', 'max')\n",
    "    ).reset_index()\n",
    "\n",
    "    # Weighted score = avg_rating * log(num_ratings + 1)\n",
    "    stats_df['weighted_score'] = stats_df['avg_rating'] * np.log1p(stats_df['num_ratings'])\n",
    "\n",
    "    # Sort by weighted score and recency\n",
    "    return stats_df.sort_values(by=['weighted_score', 'latest_time'], ascending=[False, False]).head(top_n)\n",
    "\n",
    "# Example usage\n",
    "print(recommend_for_new_user(top_n=10))"
   ]
  },
  {
   "cell_type": "markdown",
   "metadata": {},
   "source": [
    "### Cold Start – Blog\n",
    "#### Recommend new blogs to users based on content similarity with already liked blogs."
   ]
  },
  {
   "cell_type": "code",
   "execution_count": 36,
   "metadata": {},
   "outputs": [
    {
     "name": "stdout",
     "output_type": "stream",
     "text": [
      "       blog_id                                         blog_title  similarity\n",
      "1401      1428  Top 10 AI Tools You’ve Never Heard of — But Sh...    0.227465\n",
      "124        133                              Product design and AI    0.212324\n",
      "10109    10136  Don’t Be Left Behind: Tips for Surviving and S...    0.210500\n",
      "3163      3190  10 Best AI Tools for Data Extraction, Content ...    0.206791\n",
      "3363      3390  Revolutionizing product design with AI and psy...    0.204004\n"
     ]
    }
   ],
   "source": [
    "def recommend_new_blogs_for_user(user_id, top_n=5):\n",
    "    # Step 1: Get blogs liked/favorited by user\n",
    "    liked_blogs = blogs_rating_df[\n",
    "        (blogs_rating_df['userId'] == user_id) & \n",
    "        (blogs_rating_df['ratings'] >= 3.5)\n",
    "    ]['blog_id'].tolist()\n",
    "\n",
    "    if not liked_blogs:\n",
    "        return f\"User {user_id} has no high-rated blog history.\"\n",
    "\n",
    "    # Step 2: Prepare content\n",
    "    blog_texts = blogs_df[['blog_id', 'blog_title', 'blog_content']].copy()\n",
    "    blog_texts['text'] = blog_texts['blog_title'].fillna('') + ' ' + blog_texts['blog_content'].fillna('')\n",
    "\n",
    "    # Step 3: TF-IDF\n",
    "    tfidf = TfidfVectorizer(stop_words='english', max_features=5000)\n",
    "    tfidf_matrix = tfidf.fit_transform(blog_texts['text'])\n",
    "\n",
    "    # Step 4: Find content vector for liked blogs\n",
    "    # Step 4: Find content vector for liked blogs\n",
    "    liked_indices = blogs_df[blogs_df['blog_id'].isin(liked_blogs)].index\n",
    "    liked_vector = tfidf_matrix[liked_indices].mean(axis=0).A1  # FIXED\n",
    "\n",
    "\n",
    "    # Step 5: Compute similarity with all blogs\n",
    "    similarities = cosine_similarity([liked_vector], tfidf_matrix).flatten()\n",
    "    blog_texts['similarity'] = similarities\n",
    "\n",
    "    # Step 6: Filter out already rated blogs\n",
    "    already_seen = blogs_rating_df[blogs_rating_df['userId'] == user_id]['blog_id']\n",
    "    recs = blog_texts[~blog_texts['blog_id'].isin(already_seen)]\n",
    "\n",
    "    return recs.sort_values(by='similarity', ascending=False).head(top_n)[['blog_id', 'blog_title', 'similarity']]\n",
    "\n",
    "print(recommend_new_blogs_for_user(user_id=11))"
   ]
  }
 ],
 "metadata": {
  "kernelspec": {
   "display_name": "streamlitenv",
   "language": "python",
   "name": "python3"
  },
  "language_info": {
   "codemirror_mode": {
    "name": "ipython",
    "version": 3
   },
   "file_extension": ".py",
   "mimetype": "text/x-python",
   "name": "python",
   "nbconvert_exporter": "python",
   "pygments_lexer": "ipython3",
   "version": "3.11.9"
  }
 },
 "nbformat": 4,
 "nbformat_minor": 2
}
