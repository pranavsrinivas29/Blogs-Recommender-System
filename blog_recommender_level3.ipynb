{
 "cells": [
  {
   "cell_type": "code",
   "execution_count": 1,
   "metadata": {},
   "outputs": [],
   "source": [
    "import pandas as pd\n",
    "import numpy as np\n",
    "from sklearn.feature_extraction.text import TfidfVectorizer\n",
    "from sklearn.metrics.pairwise import cosine_similarity"
   ]
  },
  {
   "cell_type": "code",
   "execution_count": 2,
   "metadata": {},
   "outputs": [],
   "source": [
    "blogs_rating_df = pd.read_csv('data/Blog Ratings.csv')\n",
    "blogs_df = pd.read_csv('data/Medium Blog Data.csv')\n",
    "authors_df = pd.read_csv('data/Authors_Data_Cleaned.csv')"
   ]
  },
  {
   "cell_type": "markdown",
   "metadata": {},
   "source": [
    "### BPR"
   ]
  },
  {
   "cell_type": "code",
   "execution_count": 13,
   "metadata": {},
   "outputs": [
    {
     "name": "stderr",
     "output_type": "stream",
     "text": [
      "/Users/pranavsrinivasvenkatesh/anaconda3/envs/streamlitenv/lib/python3.11/site-packages/implicit/utils.py:164: ParameterWarning: Method expects CSR input, and was passed csc_matrix instead. Converting to CSR took 0.0006148815155029297 seconds\n",
      "  warnings.warn(\n"
     ]
    },
    {
     "data": {
      "application/vnd.jupyter.widget-view+json": {
       "model_id": "8256a488c9d2493884b8b24216a3283d",
       "version_major": 2,
       "version_minor": 0
      },
      "text/plain": [
       "  0%|          | 0/100 [00:00<?, ?it/s]"
      ]
     },
     "metadata": {},
     "output_type": "display_data"
    }
   ],
   "source": [
    "from implicit.bpr import BayesianPersonalizedRanking\n",
    "from scipy.sparse import coo_matrix\n",
    "\n",
    "# Filter implicit feedback\n",
    "positive_df = blogs_rating_df[blogs_rating_df['ratings'] >= 2]\n",
    "\n",
    "# Build mappings\n",
    "user_map = {u: i for i, u in enumerate(positive_df['userId'].unique())}\n",
    "blog_map = {b: i for i, b in enumerate(positive_df['blog_id'].unique())}\n",
    "user_inv_map = {i: u for u, i in user_map.items()}\n",
    "blog_inv_map = {i: b for b, i in blog_map.items()}\n",
    "\n",
    "# Build interaction matrix\n",
    "row = positive_df['userId'].map(user_map)\n",
    "col = positive_df['blog_id'].map(blog_map)\n",
    "data = [1] * len(row)\n",
    "\n",
    "# User × Item matrix\n",
    "interactions = coo_matrix((data, (row, col))).tocsr()\n",
    "\n",
    "# Train model on Item × User (transpose)\n",
    "model = BayesianPersonalizedRanking(factors=50, iterations=100)\n",
    "model.fit(interactions.T)"
   ]
  },
  {
   "cell_type": "code",
   "execution_count": 20,
   "metadata": {},
   "outputs": [
    {
     "name": "stdout",
     "output_type": "stream",
     "text": [
      "      blog_id                                        blog_title\n",
      "1629     1656               The What and How of Computer Vision\n",
      "9404     9431  Learning Too Many Programming Languages at Once?\n"
     ]
    }
   ],
   "source": [
    "user_id = 101\n",
    "user_idx = user_map[user_id]\n",
    "\n",
    "# Get recommendations (item_id, score)\n",
    "recommendations = model.recommend(user_idx, interactions[user_idx], N=5)\n",
    "\n",
    "# Safely extract blog IDs\n",
    "recommended_blog_ids = [blog_inv_map[int(row[0])] for row in recommendations]\n",
    "\n",
    "# Display recommended blog titles\n",
    "print(blogs_df[blogs_df['blog_id'].isin(recommended_blog_ids)][['blog_id', 'blog_title']])\n"
   ]
  },
  {
   "cell_type": "markdown",
   "metadata": {},
   "source": [
    "### Topic - Aware Recommender"
   ]
  },
  {
   "cell_type": "code",
   "execution_count": 31,
   "metadata": {},
   "outputs": [],
   "source": [
    "from gensim import corpora, models\n",
    "from nltk.corpus import stopwords\n",
    "import gensim\n",
    "\n",
    "from nltk.corpus import stopwords\n",
    "# Step 1: Define stopwords\n",
    "nltk_stopwords = set(stopwords.words('english'))\n",
    "custom_stopwords = nltk_stopwords.union({\n",
    "    'i', 'my', 'you', 'we', '|', '+', '·', '👋', '”', '“', '’', '--', '…', '•', 'also'\n",
    "})\n",
    "\n",
    "# Optional: remove punctuation and numeric-only words\n",
    "def clean_text(text):\n",
    "    return [\n",
    "        word for word in text.lower().split()\n",
    "        if word.isalpha() and word not in custom_stopwords\n",
    "    ]\n",
    "\n",
    "# Step 2: Tokenize and clean blog content\n",
    "texts = [clean_text(blog) for blog in blogs_df['blog_content'].fillna('')]\n",
    "\n",
    "# Step 3: Prepare dictionary and corpus\n",
    "dictionary = corpora.Dictionary(texts)\n",
    "corpus = [dictionary.doc2bow(text) for text in texts]\n",
    "\n",
    "# Step 4: Train LDA\n",
    "lda_model = models.LdaModel(corpus, num_topics=10, id2word=dictionary, passes=10)\n",
    "\n",
    "# Step 5: Get topic distribution for each blog\n",
    "blog_topics = [lda_model.get_document_topics(doc) for doc in corpus]\n"
   ]
  },
  {
   "cell_type": "code",
   "execution_count": 32,
   "metadata": {},
   "outputs": [
    {
     "name": "stdout",
     "output_type": "stream",
     "text": [
      "Topic 0: 0.037*\"data\" + 0.012*\"project\" + 0.007*\"event\" + 0.007*\"announce\" + 0.006*\"clean\"\n",
      "Topic 1: 0.013*\"design\" + 0.009*\"social\" + 0.009*\"internet\" + 0.009*\"website\" + 0.009*\"ios\"\n",
      "Topic 2: 0.035*\"data\" + 0.022*\"language\" + 0.019*\"ai\" + 0.011*\"natural\" + 0.011*\"technology\"\n",
      "Topic 3: 0.029*\"react\" + 0.018*\"web\" + 0.015*\"javascript\" + 0.011*\"create\" + 0.010*\"performance\"\n",
      "Topic 4: 0.014*\"learning\" + 0.009*\"model\" + 0.009*\"use\" + 0.008*\"like\" + 0.008*\"article\"\n",
      "Topic 5: 0.022*\"cloud\" + 0.022*\"web\" + 0.019*\"development\" + 0.015*\"app\" + 0.013*\"software\"\n",
      "Topic 6: 0.015*\"angular\" + 0.014*\"new\" + 0.013*\"first\" + 0.009*\"chatgpt\" + 0.008*\"like\"\n",
      "Topic 7: 0.017*\"used\" + 0.011*\"feature\" + 0.010*\"data\" + 0.009*\"algorithm\" + 0.009*\"weekly\"\n",
      "Topic 8: 0.025*\"security\" + 0.010*\"cyber\" + 0.008*\"may\" + 0.008*\"cybersecurity\" + 0.008*\"market\"\n",
      "Topic 9: 0.012*\"using\" + 0.012*\"one\" + 0.012*\"python\" + 0.012*\"code\" + 0.010*\"image\"\n"
     ]
    }
   ],
   "source": [
    "for idx, topic in lda_model.print_topics(num_words=5):\n",
    "    print(f\"Topic {idx}: {topic}\")\n"
   ]
  },
  {
   "cell_type": "code",
   "execution_count": 33,
   "metadata": {},
   "outputs": [],
   "source": [
    "# Assign dominant topic index and its weight to each blog\n",
    "dominant_topics = []\n",
    "for doc_topics in blog_topics:\n",
    "    if doc_topics:\n",
    "        top_topic = sorted(doc_topics, key=lambda x: -x[1])[0]\n",
    "        dominant_topics.append(top_topic)\n",
    "    else:\n",
    "        dominant_topics.append((None, 0.0))\n",
    "\n",
    "# Add to original DataFrame\n",
    "blogs_df['topic_id'] = [topic[0] for topic in dominant_topics]\n",
    "blogs_df['topic_score'] = [topic[1] for topic in dominant_topics]\n"
   ]
  },
  {
   "cell_type": "code",
   "execution_count": 34,
   "metadata": {},
   "outputs": [
    {
     "data": {
      "image/png": "[encoded data removed]",
      "text/plain": [
       "<Figure size 800x500 with 1 Axes>"
      ]
     },
     "metadata": {},
     "output_type": "display_data"
    }
   ],
   "source": [
    "import matplotlib.pyplot as plt\n",
    "import seaborn as sns\n",
    "\n",
    "plt.figure(figsize=(8, 5))\n",
    "sns.countplot(data=blogs_df, x='topic_id')\n",
    "plt.title(\"Distribution of Dominant Topics Across Blogs\")\n",
    "plt.xlabel(\"Topic ID\")\n",
    "plt.ylabel(\"Number of Blogs\")\n",
    "plt.show()\n"
   ]
  }
 ],
 "metadata": {
  "kernelspec": {
   "display_name": "streamlitenv",
   "language": "python",
   "name": "python3"
  },
  "language_info": {
   "codemirror_mode": {
    "name": "ipython",
    "version": 3
   },
   "file_extension": ".py",
   "mimetype": "text/x-python",
   "name": "python",
   "nbconvert_exporter": "python",
   "pygments_lexer": "ipython3",
   "version": "3.11.9"
  }
 },
 "nbformat": 4,
 "nbformat_minor": 2
}
